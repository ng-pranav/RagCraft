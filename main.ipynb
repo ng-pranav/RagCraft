{
 "cells": [
  {
   "cell_type": "code",
   "execution_count": 55,
   "metadata": {},
   "outputs": [],
   "source": [
    "import json\n",
    "import os\n",
    "import pandas as pd\n",
    "from langchain_core.prompts import ChatPromptTemplate\n",
    "from langchain_aws import BedrockLLM, BedrockChat\n",
    "from langchain_core.output_parsers import StrOutputParser\n"
   ]
  },
  {
   "cell_type": "code",
   "execution_count": 56,
   "metadata": {},
   "outputs": [],
   "source": [
    "# Load the question from config.json file\n",
    "with open('config.json', 'r') as config_file:\n",
    "    config = json.load(config_file)\n",
    "question = config['question']"
   ]
  },
  {
   "cell_type": "code",
   "execution_count": 57,
   "metadata": {},
   "outputs": [],
   "source": [
    "# Function to prepare batch input with corresponding file names\n",
    "def prepare_batch_input(input_folder, question):\n",
    "    batch_inputs = []\n",
    "    filenames = []\n",
    "    \n",
    "    # Loop through all markdown files in the input folder\n",
    "    for filename in os.listdir(input_folder):\n",
    "        if filename.endswith(\".md\"):\n",
    "            # Read the content of the markdown file\n",
    "            file_path = os.path.join(input_folder, filename)\n",
    "            with open(file_path, 'r', encoding='utf-8') as file:\n",
    "                markdown_text = file.read()\n",
    "            \n",
    "            # Prepare the input dictionary for each file\n",
    "            batch_input = {\n",
    "                'question': question,\n",
    "                'markdown_text': markdown_text\n",
    "            }\n",
    "            batch_inputs.append(batch_input)\n",
    "            filenames.append(filename)\n",
    "    \n",
    "    return batch_inputs, filenames\n"
   ]
  },
  {
   "cell_type": "code",
   "execution_count": 58,
   "metadata": {},
   "outputs": [],
   "source": [
    "# Model Import\n",
    "model = BedrockChat(\n",
    "    credentials_profile_name='default',\n",
    "    model_id='meta.llama3-70b-instruct-v1:0',\n",
    "    model_kwargs={\n",
    "        \"prompt\": \"string\",\n",
    "        \"temperature\": 0,\n",
    "        \"top_p\": 0.9,\n",
    "        \"max_gen_len\": 2048\n",
    "    }\n",
    ")"
   ]
  },
  {
   "cell_type": "code",
   "execution_count": null,
   "metadata": {},
   "outputs": [],
   "source": [
    "prompt = "
   ]
  },
  {
   "cell_type": "code",
   "execution_count": null,
   "metadata": {},
   "outputs": [],
   "source": [
    "messages = [\n",
    "        {\n",
    "            \"role\": \"user\",\n",
    "            \"content\": [\n",
    "                {\n",
    "                    \"type\": \"text\",\n",
    "                    \"text\": \"<markdown text>\"\n",
    "                },\n",
    "                {\n",
    "                    \"type\": \"text\",\n",
    "                    \"text\": \"</markdown text>\"\n",
    "                },\n",
    "                {\n",
    "                    \"type\": \"text\",\n",
    "                    \"text\": prompt\n",
    "                }\n",
    "            ]\n",
    "        }\n",
    "    ]"
   ]
  },
  {
   "cell_type": "code",
   "execution_count": 59,
   "metadata": {},
   "outputs": [],
   "source": [
    "# Prompt\n",
    "prompt = ChatPromptTemplate.from_template(\n",
    "    \"Using the markdown text provided below, answer the user's question clearly and concisely:\\n\\n\"\n",
    "    \"User's Question:\\n{question}\\n\\n\"\n",
    "    \"Markdown Text:\\n{markdown_text}\\n\\n\"\n",
    "    \"Keep all the extracted information from the responses in separate columns in the output excel file for each extracted thing and the out should be as csv file \"\n",
    "    \"Your response should be  in the csv format ,accurate, specific, and directly address the user's inquiry.\"\n",
    ")"
   ]
  },
  {
   "cell_type": "code",
   "execution_count": 60,
   "metadata": {},
   "outputs": [],
   "source": [
    "# Chain\n",
    "chain = prompt | model | StrOutputParser()"
   ]
  },
  {
   "cell_type": "code",
   "execution_count": 61,
   "metadata": {},
   "outputs": [],
   "source": [
    "# Inputs\n",
    "input_folder = 'input_files'\n",
    "question = question"
   ]
  },
  {
   "cell_type": "code",
   "execution_count": 62,
   "metadata": {},
   "outputs": [
    {
     "name": "stdout",
     "output_type": "stream",
     "text": [
      "[{'question': 'Please extract the following things such as name of the item,price,total bill and the card used for payment from the given markdown file.', 'markdown_text': '# Welcome to Chick-fil-A Loyola In-Line (#02841) Chicago, IL\\n\\nPhone: 312-266-8888\\nOperator: Lauren Sillich\\n\\n## CUSTOMER COPY\\n9/28/2022 8:41:23 PM\\n\\nOrder Number: 11127591\\n\\n| Item | Price |\\n| --- | --- |\\n| 1 Meal-SpcdyIx+PJ | $10.59 |\\n| Spcy Dix +PJ | - |\\n| Fries LG | $0.40 |\\n| Coke MD | - |\\n\\n| Description | Amount |\\n| --- | --- |\\n| Sub. Total: | $10.99 |\\n| Tax: | $1.29 |\\n| Total: | $12.28 |\\n\\nChange: $0.00\\nMastercard: $12.28\\nRegister: 4\\nTran Seq No: 11127591\\n\\nWe are hiring GREAT people like you!\\nText \"CFA\" to (312) 561-4919\\nwww.chick-fil-a.com/forgottoscan\\nRestroom Code: 8407\\n\\nSep 28 2022 8:41 pm\\n\\nCard Number: ************4526\\nCard Type: MASTER CARD\\nApproval: NDRQAN\\nAID: A0000000041010'}, {'question': 'Please extract the following things such as name of the item,price,total bill and the card used for payment from the given markdown file.', 'markdown_text': '# Receipt from Gelato\\n\\n| Item | Price |\\n| --- | --- |\\n| Coffee | 5.75 |\\n| Cappuccino | 7.00 |\\n| Danish | 5.00 |\\n| Apple Turnover | 6.00 |\\n\\nSubtotal: 24.75  \\nTax: 2.07  \\nTip: 4.46  \\nTotal: 31.28\\n\\nMastercard EMV: 31.28\\nDEBIT MASTERCARD\\nC/M: Signature\\nEntry Mode: Contactless\\nAuth Mode: Issuer\\nAID: A0000000041010\\nTVR: 0000008001\\nIAD: 01144100030400000000000000000F\\n\\nGRAND TOTAL: 31.28\\n\\nJoin MGM Rewards\\nVisit mgmrewards.com\\nEarn MGM Rewards Points on\\nhotel stays, gaming and\\nspending at over 400 participating\\nfood and beverage outlets.\\nThank You'}, {'question': 'Please extract the following things such as name of the item,price,total bill and the card used for payment from the given markdown file.', 'markdown_text': '# Topgolf Receipt\\n\\n| Item | Price |\\n| --- | --- |\\n| 4 Bud Aluminum Bottle (8.00) | 32.00 |\\n| 2 Topgolf Gameplay | 74.00 |\\n| 2 Membership Charge (5.00) | 10.00 |\\n| Topgolf Gameplay | 37.00 |\\n| Subtotal | 153.00 |\\n| Tax | 2.68 |\\n| TOTAL | 155.68 |\\n\\nTopgolf\\n4627 Koval Lane\\nLas Vegas, NV 89109\\n\\nCheck 488\\nHaleigh M.\\nGuests 2\\n\\nTab 233/ARORE\\n12/1/2023\\n3:08 PM\\n\\nMastercard Acct. xxxxxxxxxxxx2961\\nApproval AP745529\\nCHANGE DUE 0.00\\n\\nThank you for visiting Topgolf! For upcoming events and promotions visit Topgolf.com and follow us @topgolf on Facebook, Twitter or Instagram.\\n\\nTopgolf is all about inspiring more play in the world, and if your Bayhost delivered on that during your experience we ask that you consider tipping 20-25% of your total check.'}, {'question': 'Please extract the following things such as name of the item,price,total bill and the card used for payment from the given markdown file.', 'markdown_text': '# Whole Foods Market Receipt\\n\\n| Item | Quantity | Price |\\n| --- | --- | --- |\\n| BVO BAG WM | 1 | $3.99 |\\n| KETIL HABANERO LIME CHIPS | 1 | $3.99 |\\n| MANGO BERRY SMALL | 1 | $5.00 |\\n| OATMEAL RAISIN COOKIE GCT | 1 | $10.99 |\\n| BAG REFUND | 1 | -$0.10 |\\n\\nSubtotal: $17.62\\nTotal Savings: -$1.09\\nNet Sales: $16.53\\nTax: $0.21\\nTotal: $16.74\\n\\nSold Items: 4\\n\\nPaid:\\nMasterCard *4528 $16.74\\nChip Card :DEBIT MASTERCARD\\nChip Card AID:000000000410010\\n\\nRETURNS: All returns require a receipt.\\nNo returns on items purchased after 90 days. For additional information, please visit wfm.com/returns.\\n\\nPrime members save at Whole Foods Market, and get Free Shipping, Video, Music & more. Learn more at amazon.com/primeathome.\\n\\nEarn 5% Back at Whole Foods Market with the Amazon Prime Rewards Visa. Learn more at amazon.com/wfmvisa.\\n\\nHOW WAS YOUR SHOPPING EXPERIENCE? \\nGO TO: http://www.wfm.com/feedback\\nENTER FOR A CHANCE TO WIN A $500 GIFT CARD\\nBATHROOM CODE: 7425\\n\\nFrom July 1, 2022 through July 1, 2023 the State of Illinois sales tax is 0%.\\n\\nYour Total Savings: $1.09\\n\\n201 54780 09/28/2022 08:27 PM\\n0001 074020154780095260220\\n981K JR2JP\\n\\nThanks for shopping at Whole Foods Market\\nWholefooodsMarket.com'}]\n",
      "['chickfila_20221016_005.md', 'gelato_20231209_015.md', 'topgolf_20231209_011.md', 'wholefoods_20221016_004.md']\n"
     ]
    }
   ],
   "source": [
    "# Prepare batch inputs\n",
    "batch_inputs, filenames = prepare_batch_input(input_folder, question)\n",
    "print(batch_inputs)\n",
    "print(filenames)"
   ]
  },
  {
   "cell_type": "code",
   "execution_count": 63,
   "metadata": {},
   "outputs": [],
   "source": [
    "# Response\n",
    "responses = chain.batch(batch_inputs)\n",
    "\n"
   ]
  },
  {
   "cell_type": "code",
   "execution_count": 64,
   "metadata": {},
   "outputs": [],
   "source": [
    "# Function to process responses and generate output data\n",
    "def process_responses(responses, filenames):\n",
    "    output_data = []\n",
    "\n",
    "    # Ensure responses is always a list\n",
    "    if not isinstance(responses, list):\n",
    "        responses = [responses]\n",
    "\n",
    "    # Ensure that the number of responses and filenames match\n",
    "    if len(responses) != len(filenames):\n",
    "        raise ValueError(\"The number of responses does not match the number of filenames\")\n",
    "\n",
    "    # Loop through responses and filenames to create output data\n",
    "    # for response, filename in zip(responses, filenames):\n",
    "    #     output_data.append({\n",
    "    #         'Filename': filename,\n",
    "    #         'Extracted Information': response \n",
    "    #     })\n",
    "\n",
    "    return responses,filenames"
   ]
  },
  {
   "cell_type": "code",
   "execution_count": 65,
   "metadata": {},
   "outputs": [],
   "source": [
    "# Process the responses\n",
    "final_response = process_responses(responses, filenames)"
   ]
  },
  {
   "cell_type": "code",
   "execution_count": 68,
   "metadata": {},
   "outputs": [
    {
     "data": {
      "text/plain": [
       "'Here is the extracted information in CSV format:\\n\\n\"Name of the Item\",\"Price\",\"Total Bill\",\"Card Used for Payment\"\\n\"Meal-SpcdyIx+PJ\",\"$10.59\",\"$12.28\",\"Mastercard\"\\n\"Spicy Dix +PJ\",\"-\",\"$12.28\",\"Mastercard\"\\n\"Fries LG\",\"$0.40\",\"$12.28\",\"Mastercard\"\\n\"Coke MD\",\"-\",\"$12.28\",\"Mastercard\"\\n\\nLet me know if this meets your requirements!'"
      ]
     },
     "execution_count": 68,
     "metadata": {},
     "output_type": "execute_result"
    }
   ],
   "source": [
    "final_response[0][0]"
   ]
  },
  {
   "cell_type": "code",
   "execution_count": 48,
   "metadata": {},
   "outputs": [
    {
     "name": "stdout",
     "output_type": "stream",
     "text": [
      "Here are the items with their respective prices extracted from the markdown text:\n",
      "\n",
      "1. Meal-SpcdyIx+PJ - $10.59\n",
      "2. Fries LG - $0.40\n",
      "3. Coke MD - (no price listed)\n",
      "\n",
      "Note that the prices for \"Spicy Dix +PJ\" are not listed, so I couldn't include them in the extracted list.\n",
      "Here are the items and their respective prices extracted from the markdown file:\n",
      "\n",
      "1. Coffee - $5.75\n",
      "2. Cappuccino - $7.00\n",
      "3. Danish - $5.00\n",
      "4. Apple Turnover - $6.00\n",
      "Here are the items with their respective prices extracted from the markdown text:\n",
      "\n",
      "1. 4 Bud Aluminum Bottle - $32.00\n",
      "2. 2 Topgolf Gameplay - $74.00\n",
      "3. 2 Membership Charge - $10.00\n",
      "4. Topgolf Gameplay - $37.00\n",
      "\n",
      "Let me know if you need any further assistance!\n",
      "Here are the items with their respective prices extracted from the markdown text:\n",
      "\n",
      "1. BVO BAG WM - $3.99\n",
      "2. KETIL HABANERO LIME CHIPS - $3.99\n",
      "3. MANGO BERRY SMALL - $5.00\n",
      "4. OATMEAL RAISIN COOKIE GCT - $10.99\n",
      "5. BAG REFUND - -$0.10\n"
     ]
    }
   ],
   "source": [
    "for i in range(4):\n",
    "    print(final_response[i]['Extracted Information'])\n",
    "    "
   ]
  },
  {
   "cell_type": "code",
   "execution_count": 69,
   "metadata": {},
   "outputs": [
    {
     "name": "stdout",
     "output_type": "stream",
     "text": [
      "Here is the extracted information in CSV format:\n",
      "\n",
      "\"Item\",\"Price\",\"Total Bill\",\"Card Used\"\n",
      "\"Coffee\",\"5.75\",\"31.28\",\"Mastercard EMV\"\n",
      "\"Cappuccino\",\"7.00\",\"31.28\",\"Mastercard EMV\"\n",
      "\"Danish\",\"5.00\",\"31.28\",\"Mastercard EMV\"\n",
      "\"Apple Turnover\",\"6.00\",\"31.28\",\"Mastercard EMV\"\n",
      "\n",
      "Let me know if this meets your requirements!\n"
     ]
    }
   ],
   "source": [
    "# Convert the response to a DataFrame\n",
    "df = pd.DataFrame(final_response)\n",
    "print(df.iloc[0,1])\n"
   ]
  },
  {
   "cell_type": "code",
   "execution_count": 70,
   "metadata": {},
   "outputs": [],
   "source": [
    "# Output file path\n",
    "output_file = 'extracted_output.xlsx'"
   ]
  },
  {
   "cell_type": "code",
   "execution_count": 71,
   "metadata": {},
   "outputs": [
    {
     "name": "stdout",
     "output_type": "stream",
     "text": [
      "Output written to extracted_output.xlsx\n"
     ]
    }
   ],
   "source": [
    "# Write the DataFrame to an Excel file\n",
    "df.to_excel(output_file, index=False)\n",
    "\n",
    "print(f\"Output written to {output_file}\")"
   ]
  },
  {
   "cell_type": "code",
   "execution_count": null,
   "metadata": {},
   "outputs": [],
   "source": []
  }
 ],
 "metadata": {
  "kernelspec": {
   "display_name": "venv",
   "language": "python",
   "name": "python3"
  },
  "language_info": {
   "codemirror_mode": {
    "name": "ipython",
    "version": 3
   },
   "file_extension": ".py",
   "mimetype": "text/x-python",
   "name": "python",
   "nbconvert_exporter": "python",
   "pygments_lexer": "ipython3",
   "version": "3.11.7"
  }
 },
 "nbformat": 4,
 "nbformat_minor": 2
}
